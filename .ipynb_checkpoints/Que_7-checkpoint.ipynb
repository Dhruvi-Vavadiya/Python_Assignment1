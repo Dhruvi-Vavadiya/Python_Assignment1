{
 "cells": [
  {
   "cell_type": "code",
   "execution_count": 1,
   "metadata": {},
   "outputs": [
    {
     "name": "stdout",
     "output_type": "stream",
     "text": [
      "[[3, 2, 1], [6, 5, 4], [9, 8, 7]]\n"
     ]
    }
   ],
   "source": [
    "# 7. Given a list slice it into a 3 equal chunks and reverse each list\n",
    "def slice_and_reverse(lst):\n",
    "    n = len(lst)\n",
    "    if n % 3 != 0:\n",
    "        raise ValueError(\"List length is not divisible by 3\")\n",
    "\n",
    "    chunk_size = n // 3\n",
    "    chunks = []\n",
    "\n",
    "    for i in range(0, n, chunk_size):\n",
    "        chunk = lst[i:i+chunk_size]\n",
    "        chunks.append(chunk[::-1])  # Reverse each chunk\n",
    "\n",
    "    return chunks\n",
    "my_list = [1, 2, 3, 4, 5, 6, 7, 8, 9]\n",
    "result = slice_and_reverse(my_list)\n",
    "print(result)\n"
   ]
  },
  {
   "cell_type": "code",
   "execution_count": null,
   "metadata": {},
   "outputs": [],
   "source": []
  }
 ],
 "metadata": {
  "kernelspec": {
   "display_name": "Python 3",
   "language": "python",
   "name": "python3"
  },
  "language_info": {
   "codemirror_mode": {
    "name": "ipython",
    "version": 3
   },
   "file_extension": ".py",
   "mimetype": "text/x-python",
   "name": "python",
   "nbconvert_exporter": "python",
   "pygments_lexer": "ipython3",
   "version": "3.7.6"
  }
 },
 "nbformat": 4,
 "nbformat_minor": 4
}
