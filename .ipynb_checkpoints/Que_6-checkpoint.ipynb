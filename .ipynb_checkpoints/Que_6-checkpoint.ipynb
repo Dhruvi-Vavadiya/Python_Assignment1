{
 "cells": [
  {
   "cell_type": "code",
   "execution_count": 1,
   "metadata": {},
   "outputs": [
    {
     "name": "stdout",
     "output_type": "stream",
     "text": [
      "[10, 20, 50, 30, 40, 60, 70, 50]\n"
     ]
    }
   ],
   "source": [
    "#6. Given an input list removes the element at index 4 and add it to the 2nd position and also, at the end of the list\n",
    "def modify_list(lst):\n",
    "    if len(lst) <= 4:\n",
    "        return lst  \n",
    "    \n",
    "    elem = lst.pop(4)\n",
    "    \n",
    "    # Insert at index 2\n",
    "    lst.insert(2, elem)\n",
    "    \n",
    "    # Append at the end\n",
    "    lst.append(elem)\n",
    "    \n",
    "    return lst\n",
    "\n",
    "my_list = [10, 20, 30, 40, 50, 60, 70]\n",
    "print(modify_list(my_list))\n"
   ]
  },
  {
   "cell_type": "code",
   "execution_count": null,
   "metadata": {},
   "outputs": [],
   "source": []
  }
 ],
 "metadata": {
  "kernelspec": {
   "display_name": "Python 3",
   "language": "python",
   "name": "python3"
  },
  "language_info": {
   "codemirror_mode": {
    "name": "ipython",
    "version": 3
   },
   "file_extension": ".py",
   "mimetype": "text/x-python",
   "name": "python",
   "nbconvert_exporter": "python",
   "pygments_lexer": "ipython3",
   "version": "3.7.6"
  }
 },
 "nbformat": 4,
 "nbformat_minor": 4
}
