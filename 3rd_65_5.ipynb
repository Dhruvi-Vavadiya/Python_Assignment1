{
 "cells": [
  {
   "cell_type": "code",
   "execution_count": 1,
   "metadata": {},
   "outputs": [
    {
     "name": "stdout",
     "output_type": "stream",
     "text": [
      "[20, 40, 60, 5, 25, 45]\n"
     ]
    }
   ],
   "source": [
    "#5. Given a two list. Create a third list by picking an odd-index element from the first list and even index elements from second.\n",
    "def combine_lists(list1, list2):\n",
    "    # Odd indices from list1\n",
    "    odd_from_list1 = [list1[i] for i in range(1, len(list1), 2)]\n",
    "    # Even indices from list2\n",
    "    even_from_list2 = [list2[i] for i in range(0, len(list2), 2)]\n",
    "    # Combine both\n",
    "    return odd_from_list1 + even_from_list2\n",
    "\n",
    "list1 = [10, 20, 30, 40, 50, 60]\n",
    "list2 = [5, 15, 25, 35, 45, 55]\n",
    "\n",
    "result = combine_lists(list1, list2)\n",
    "print(result)\n"
   ]
  },
  {
   "cell_type": "code",
   "execution_count": null,
   "metadata": {},
   "outputs": [],
   "source": []
  }
 ],
 "metadata": {
  "kernelspec": {
   "display_name": "Python 3",
   "language": "python",
   "name": "python3"
  },
  "language_info": {
   "codemirror_mode": {
    "name": "ipython",
    "version": 3
   },
   "file_extension": ".py",
   "mimetype": "text/x-python",
   "name": "python",
   "nbconvert_exporter": "python",
   "pygments_lexer": "ipython3",
   "version": "3.7.6"
  }
 },
 "nbformat": 4,
 "nbformat_minor": 4
}
