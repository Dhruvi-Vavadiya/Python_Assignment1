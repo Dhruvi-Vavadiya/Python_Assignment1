{
 "cells": [
  {
   "cell_type": "code",
   "execution_count": 1,
   "metadata": {},
   "outputs": [
    {
     "name": "stdout",
     "output_type": "stream",
     "text": [
      "Current: 0, Previous: 0, Sum: 0\n",
      "Current: 1, Previous: 0, Sum: 1\n",
      "Current: 2, Previous: 1, Sum: 3\n",
      "Current: 3, Previous: 2, Sum: 5\n",
      "Current: 4, Previous: 3, Sum: 7\n",
      "Current: 5, Previous: 4, Sum: 9\n",
      "Current: 6, Previous: 5, Sum: 11\n",
      "Current: 7, Previous: 6, Sum: 13\n",
      "Current: 8, Previous: 7, Sum: 15\n",
      "Current: 9, Previous: 8, Sum: 17\n"
     ]
    }
   ],
   "source": [
    "#2. Given a range of first 10 numbers, Iterate from start number to the end number and print the sum of the current number and previous number\n",
    "start = 0\n",
    "end = 9 \n",
    "\n",
    "previous_num = 0\n",
    "for current_num in range(start, end + 1):\n",
    "    sum_nums = current_num + previous_num\n",
    "    print(f\"Current: {current_num}, Previous: {previous_num}, Sum: {sum_nums}\")\n",
    "    previous_num = current_num"
   ]
  },
  {
   "cell_type": "code",
   "execution_count": null,
   "metadata": {},
   "outputs": [],
   "source": []
  }
 ],
 "metadata": {
  "kernelspec": {
   "display_name": "Python 3",
   "language": "python",
   "name": "python3"
  },
  "language_info": {
   "codemirror_mode": {
    "name": "ipython",
    "version": 3
   },
   "file_extension": ".py",
   "mimetype": "text/x-python",
   "name": "python",
   "nbconvert_exporter": "python",
   "pygments_lexer": "ipython3",
   "version": "3.7.6"
  }
 },
 "nbformat": 4,
 "nbformat_minor": 4
}
