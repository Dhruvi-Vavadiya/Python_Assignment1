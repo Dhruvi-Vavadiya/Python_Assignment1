{
 "cells": [
  {
   "cell_type": "code",
   "execution_count": 2,
   "metadata": {},
   "outputs": [
    {
     "name": "stdout",
     "output_type": "stream",
     "text": [
      "aceg\n",
      "Drv\n"
     ]
    }
   ],
   "source": [
    "#3. Given a string, display only those characters which are present at an even index number.\n",
    "def even_index_chars(s):\n",
    "    result = \"\"\n",
    "    for i in range(len(s)):\n",
    "        if i % 2 == 0:\n",
    "            result += s[i]\n",
    "    return result\n",
    "print(even_index_chars(\"abcdefgh\"))  \n",
    "print(even_index_chars(\"Dhruvi\"))   "
   ]
  },
  {
   "cell_type": "code",
   "execution_count": null,
   "metadata": {},
   "outputs": [],
   "source": []
  }
 ],
 "metadata": {
  "kernelspec": {
   "display_name": "Python 3",
   "language": "python",
   "name": "python3"
  },
  "language_info": {
   "codemirror_mode": {
    "name": "ipython",
    "version": 3
   },
   "file_extension": ".py",
   "mimetype": "text/x-python",
   "name": "python",
   "nbconvert_exporter": "python",
   "pygments_lexer": "ipython3",
   "version": "3.7.6"
  }
 },
 "nbformat": 4,
 "nbformat_minor": 4
}
